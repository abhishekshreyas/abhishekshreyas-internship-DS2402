{
 "cells": [
  {
   "cell_type": "code",
   "execution_count": 2,
   "id": "72b79ffb",
   "metadata": {},
   "outputs": [
    {
     "name": "stdout",
     "output_type": "stream",
     "text": [
      "Python:Exercises::PHP:exercises:\n"
     ]
    }
   ],
   "source": [
    "#Q.1\n",
    "import regex as re\n",
    "Sample_Text='Python Exercises, PHP exercises.'\n",
    "print(re.sub(\"[ ,.]\",\":\",Sample_Text))"
   ]
  },
  {
   "cell_type": "code",
   "execution_count": 5,
   "id": "40f30701",
   "metadata": {},
   "outputs": [
    {
     "name": "stdout",
     "output_type": "stream",
     "text": [
      "         SUMMARY\n",
      "0    hello world\n",
      "1           test\n",
      "2  four five six\n"
     ]
    }
   ],
   "source": [
    "Q.2\n",
    "import pandas as pd\n",
    "import regex as re\n",
    "Dict = {'SUMMARY' : ['hello, world!', 'XXXXX test', '123four, five:; six...']}\n",
    "df=pd.DataFrame(Dict)\n",
    "df['SUMMARY']=df['SUMMARY'].str.replace('[^a-zA-WYZ\\s]','', regex=True)\n",
    "print(df)\n"
   ]
  },
  {
   "cell_type": "code",
   "execution_count": 15,
   "id": "3e046bde",
   "metadata": {},
   "outputs": [
    {
     "name": "stdout",
     "output_type": "stream",
     "text": [
      "['Woods', 'Lovely', 'Dark', 'Deep']\n"
     ]
    }
   ],
   "source": [
    "#Q.3\n",
    "import regex as re\n",
    "def fndWrds(Str):\n",
    "    pattern=re.compile(r'\\b\\w{4,9}\\b')\n",
    "    matches=pattern.findall(String)\n",
    "    return matches\n",
    "Str=\"Woods are Lovely Dark and Deep\"\n",
    "result=fndWrds(Str)\n",
    "print(result)"
   ]
  },
  {
   "cell_type": "code",
   "execution_count": 16,
   "id": "059d32f1",
   "metadata": {},
   "outputs": [
    {
     "name": "stdout",
     "output_type": "stream",
     "text": [
      "['Woods', 'are', 'Dark', 'and', 'Deep']\n"
     ]
    }
   ],
   "source": [
    "#Q.4\n",
    "import regex as re\n",
    "def fndWrds(Str):\n",
    "    pattern=re.compile(r'\\b\\w{3,5}\\b')\n",
    "    matches=pattern.findall(String)\n",
    "    return matches\n",
    "Str=\"Woods are Lovely Dark and Deep\"\n",
    "result=fndWrds(Str)\n",
    "print(result)"
   ]
  },
  {
   "cell_type": "code",
   "execution_count": 33,
   "id": "eed971be",
   "metadata": {},
   "outputs": [
    {
     "name": "stdout",
     "output_type": "stream",
     "text": [
      "['example .com', 'hr@fliprobo .com', 'github .com', 'Hello Data Science World', 'Data Scientist']\n"
     ]
    }
   ],
   "source": [
    "#Q.5\n",
    "import regex as re\n",
    "\n",
    "def del_paren(strings):\n",
    "    pattern = re.compile(r\"[()]\")\n",
    "    mod_str = []\n",
    "    \n",
    "    for string in strings:\n",
    "        new_string = re.sub(pattern,\"\",string)\n",
    "        mod_str.append(new_string)\n",
    "    return mod_str\n",
    "\n",
    "sample_text = [\"example (.com)\", \"hr@fliprobo (.com)\", \"github (.com)\", \"Hello (Data Science World)\", \"Data (Scientist)\"]\n",
    "result = del_paren(sample_text)\n",
    "\n",
    "print(result)"
   ]
  },
  {
   "cell_type": "code",
   "execution_count": 34,
   "id": "71710c30",
   "metadata": {},
   "outputs": [
    {
     "data": {
      "text/plain": [
       "71"
      ]
     },
     "execution_count": 34,
     "metadata": {},
     "output_type": "execute_result"
    }
   ],
   "source": [
    "#Q.6\n",
    "import regex as re\n",
    "\n",
    "# Read the text file and store its content in a variable\n",
    "file1=open('d:\\\\regex6read.txt', 'r')\n",
    "text = file1.read()\n",
    "\n",
    "# Use regular expressions to remove the\n",
    "modified_text = re.sub(r'\\([^()]*\\)', '', text)\n",
    "\n",
    "# Save the modified text back to the text file\n",
    "file2=open('d:\\\\regex6write.txt', 'w')\n",
    "file2.write(modified_text)\n",
    "\n"
   ]
  },
  {
   "cell_type": "code",
   "execution_count": 45,
   "id": "022009fe",
   "metadata": {},
   "outputs": [
    {
     "name": "stdout",
     "output_type": "stream",
     "text": [
      "['Importance', 'Of', 'Regular', 'Expressions', 'In', 'Python']\n"
     ]
    }
   ],
   "source": [
    "#Q.7\n",
    "import regex as re\n",
    "sample_text=\"ImportanceOfRegularExpressionsInPython\"\n",
    "print(re.findall('[A-Z][^A-Z]*',sample_text))"
   ]
  },
  {
   "cell_type": "code",
   "execution_count": 1,
   "id": "62400239",
   "metadata": {},
   "outputs": [
    {
     "name": "stdout",
     "output_type": "stream",
     "text": [
      "RegularExpression 1IsAn 2ImportantTopic 3InPython\n"
     ]
    }
   ],
   "source": [
    "#Q.8\n",
    "import regex as re\n",
    "def ins_spc(sample_text):  \n",
    "    pattern=r'(\\d+)([A-Za-z])'\n",
    "    result = re.sub(pattern, r' \\1\\2', sample_text)\n",
    "    return result\n",
    "sample_text=\"RegularExpression1IsAn2ImportantTopic3InPython\"\n",
    "output=ins_spc(sample_text)\n",
    "print(output)\n"
   ]
  },
  {
   "cell_type": "code",
   "execution_count": 9,
   "id": "0693bdc3",
   "metadata": {},
   "outputs": [
    {
     "name": "stdout",
     "output_type": "stream",
     "text": [
      "['Regular', 'Expression', '1', 'Is', 'An', '2', 'Important', 'Topic', '3', 'In', 'Python']\n"
     ]
    }
   ],
   "source": [
    "#Q.9\n",
    "import regex as re\n",
    "def ins_spc(sample_text):  \n",
    "    result=re.findall('[A-Z0-9][^A-Z0-9]*',sample_text)\n",
    "    return result\n",
    "sample_text=\"RegularExpression1IsAn2ImportantTopic3InPython\"\n",
    "output=ins_spc(sample_text)\n",
    "print(output)"
   ]
  },
  {
   "cell_type": "code",
   "execution_count": 28,
   "id": "79735145",
   "metadata": {},
   "outputs": [
    {
     "name": "stdout",
     "output_type": "stream",
     "text": [
      "First_Five_Letters\n",
      " 0      Switze\n",
      "1      Icelan\n",
      "2      Denmar\n",
      "3      Norway\n",
      "4      Canada\n",
      "        ...  \n",
      "153    Rwanda\n",
      "154       NaN\n",
      "155       NaN\n",
      "156    Burund\n",
      "157       NaN\n",
      "Name: First_Five_Letters, Length: 158, dtype: object\n"
     ]
    }
   ],
   "source": [
    "#Q.10\n",
    "import pandas as pd\n",
    "import regex as re\n",
    "import numpy as np\n",
    "df=pd.read_csv(\"https://raw.githubusercontent.com/dsrscientist/DSData/master/happiness_score_dataset.csv\")\n",
    "df.head()\n",
    "df['First_Five_Letters']=df['Country'].str.extract(r'(\\w{6})')\n",
    "print('First_Five_Letters\\n',df['First_Five_Letters'])\n"
   ]
  },
  {
   "cell_type": "code",
   "execution_count": 63,
   "id": "01fad86a",
   "metadata": {
    "scrolled": true
   },
   "outputs": [
    {
     "name": "stdout",
     "output_type": "stream",
     "text": [
      "Little Star :  String MisMatched\n",
      "1Amar_2Akbar_3Anthony :  String Matched\n"
     ]
    }
   ],
   "source": [
    "#Q.11\n",
    "import regex as re\n",
    "t1=\"Little Star\"\n",
    "t2=\"1Amar_2Akbar_3Anthony\"\n",
    "def string_match(text):\n",
    "    patterns='^[A-Za-z0-9_]*$'\n",
    "    if re.search(patterns,text):\n",
    "        return ':  String Matched'\n",
    "    else:\n",
    "        return ':  String MisMatched'\n",
    "print(t1,string_match(t1))    \n",
    "print(t2,string_match(t2))"
   ]
  },
  {
   "cell_type": "code",
   "execution_count": 19,
   "id": "3cbbfb30",
   "metadata": {},
   "outputs": [
    {
     "name": "stdout",
     "output_type": "stream",
     "text": [
      "False\n",
      "True\n"
     ]
    }
   ],
   "source": [
    "#Q.12\n",
    "import regex as re\n",
    "def spec_num(str):\n",
    "    txt = re.compile(r\"^16\")\n",
    "    if txt.match(str):\n",
    "        return True\n",
    "    else:\n",
    "        return False\n",
    "print(spec_num('2abc'))\n",
    "print(spec_num('16xyz'))\n",
    "\n"
   ]
  },
  {
   "cell_type": "code",
   "execution_count": 25,
   "id": "240d1949",
   "metadata": {},
   "outputs": [
    {
     "name": "stdout",
     "output_type": "stream",
     "text": [
      "255.7.65.123\n"
     ]
    }
   ],
   "source": [
    "#Q.13\n",
    "import regex as re\n",
    "ip = \"255.007.065.123\"\n",
    "str = re.sub('\\.[0]*', '.', ip)\n",
    "print(str)\n"
   ]
  },
  {
   "cell_type": "code",
   "execution_count": 94,
   "id": "6068a4a9",
   "metadata": {},
   "outputs": [
    {
     "name": "stdout",
     "output_type": "stream",
     "text": [
      "['August 15th 1947']\n"
     ]
    }
   ],
   "source": [
    "#Q.14\n",
    "import regex as re\n",
    "\n",
    "sample_text =\"On August 15th 1947 that India was declared independent from British colonialism, and the reins of control were handed over to the leaders of the Country.\"\n",
    "\n",
    "pattern = r\"\\b([A-Z][a-z]+ \\d{1,2}+th \\d{1,4})\"\n",
    "\n",
    "\n",
    "matches = re.findall(pattern, sample_text)\n",
    "print(matches)\n"
   ]
  },
  {
   "cell_type": "code",
   "execution_count": 106,
   "id": "35bb398b",
   "metadata": {},
   "outputs": [
    {
     "name": "stdout",
     "output_type": "stream",
     "text": [
      "Finding fox\" in \"The quick brown fox jumps over the lazy dog.\": \n",
      "Pattern Match\n",
      "Finding dog\" in \"The quick brown fox jumps over the lazy dog.\": \n",
      "Pattern Match\n",
      "Finding horse\" in \"The quick brown fox jumps over the lazy dog.\": \n",
      "Pattern MisMatch\n"
     ]
    }
   ],
   "source": [
    "#Q.15\n",
    "import regex as re\n",
    "pattern = [ 'fox', 'dog', 'horse' ]\n",
    "sample_text = 'The quick brown fox jumps over the lazy dog.'\n",
    "for pat in pattern:\n",
    "    print('Finding %s\" in \"%s\": ' % (pat, sample_text),)\n",
    "    if re.search(pat,  text):\n",
    "        print('Pattern Match')\n",
    "    else:\n",
    "        print('Pattern MisMatch')\n"
   ]
  },
  {
   "cell_type": "code",
   "execution_count": 109,
   "id": "15cdd68e",
   "metadata": {},
   "outputs": [
    {
     "name": "stdout",
     "output_type": "stream",
     "text": [
      "Searched \"fox\" in \"The quick brown fox jumps over the lazy dog.\" from 16 to 19 \n"
     ]
    }
   ],
   "source": [
    "#Q.16\n",
    "import regex as re\n",
    "pattern = 'fox'\n",
    "sample_text = 'The quick brown fox jumps over the lazy dog.'\n",
    "match = re.search(pattern, sample_text)\n",
    "F = match.start()\n",
    "L = match.end()\n",
    "print('Searched \"%s\" in \"%s\" from %d to %d ' % \\\n",
    "    (match.re.pattern, match.string, F, L))\n"
   ]
  },
  {
   "cell_type": "code",
   "execution_count": 111,
   "id": "88338836",
   "metadata": {},
   "outputs": [
    {
     "name": "stdout",
     "output_type": "stream",
     "text": [
      "Searched \"exercises\"\n",
      "Searched \"exercises\"\n",
      "Searched \"exercises\"\n"
     ]
    }
   ],
   "source": [
    "#Q.17\n",
    "import regex as re\n",
    "sample_text = 'Python exercises, PHP exercises, C# exercises'\n",
    "pattern = 'exercises'\n",
    "for i in re.findall(pattern, sample_text):\n",
    "    print('Searched \"%s\"' % i)\n"
   ]
  },
  {
   "cell_type": "code",
   "execution_count": 113,
   "id": "3454a190",
   "metadata": {},
   "outputs": [
    {
     "name": "stdout",
     "output_type": "stream",
     "text": [
      "Searched \"exercises\" at 7:16\n",
      "Searched \"exercises\" at 22:31\n",
      "Searched \"exercises\" at 36:45\n"
     ]
    }
   ],
   "source": [
    "#Q.18\n",
    "import regex as re\n",
    "sample_text = 'Python exercises, PHP exercises, C# exercises'\n",
    "pattern = 'exercises'\n",
    "for i in re.finditer(pattern, sample_text):\n",
    "    F = i.start()\n",
    "    L = i.end()\n",
    "    print('Searched \"%s\" at %d:%d' % (sample_text[F:L], F, L))\n"
   ]
  },
  {
   "cell_type": "code",
   "execution_count": 120,
   "id": "8818ea6c",
   "metadata": {},
   "outputs": [
    {
     "name": "stdout",
     "output_type": "stream",
     "text": [
      "Actual date - YYYY-MM-DD Format:  2009-02-26\n",
      "New date - DD-MM-YYYY Format:  26-02-2009\n"
     ]
    }
   ],
   "source": [
    "#Q.19\n",
    "import regex as re\n",
    "def changeDtFormat(dt):\n",
    "        return re.sub(r'(\\d{4})-(\\d{1,2})-(\\d{1,2})','\\\\3-\\\\2-\\\\1',dt)\n",
    "dt = \"2009-02-26\"\n",
    "print(\"Actual date - YYYY-MM-DD Format: \",dt)\n",
    "print(\"New date - DD-MM-YYYY Format: \",changeDtFormat(dt))\n"
   ]
  },
  {
   "cell_type": "code",
   "execution_count": 126,
   "id": "87576909",
   "metadata": {},
   "outputs": [
    {
     "name": "stdout",
     "output_type": "stream",
     "text": [
      "['01.12', '0132.12', '2.31', '145.8', '3.01', '27.25', '0.25']\n"
     ]
    }
   ],
   "source": [
    "#Q.20\n",
    "import regex as re\n",
    "def findDecNum(str):\n",
    "  pattern = re.compile(r'\\d+\\.\\d{1,2}')\n",
    "  dec_num = re.findall(pattern, str)\n",
    "  return dec_num\n",
    "sample_text=\"01.12 0132.123 2.31875 145.8 3.01 27.25 0.25\"\n",
    "result = findDecNum(sample_text)\n",
    "print(result)\n"
   ]
  },
  {
   "cell_type": "code",
   "execution_count": 128,
   "id": "e0a97290",
   "metadata": {},
   "outputs": [
    {
     "name": "stdout",
     "output_type": "stream",
     "text": [
      "Number:  60\n",
      "Index position: 23\n"
     ]
    }
   ],
   "source": [
    "#Q.21\n",
    "import regex as re\n",
    "sample_text=\"You need to count till 60 without a break.\"\n",
    "for i in re.finditer(\"\\d+\", sample_text):\n",
    "    print(\"Number: \",i.group(0))\n",
    "    print(\"Index position:\", i.start())\n"
   ]
  },
  {
   "cell_type": "code",
   "execution_count": 129,
   "id": "593d9166",
   "metadata": {},
   "outputs": [
    {
     "name": "stdout",
     "output_type": "stream",
     "text": [
      "950\n"
     ]
    }
   ],
   "source": [
    "#Q.22\n",
    "import regex as re\n",
    "sample_text='My marks in each semester are: 947, 896, 926, 524, 734, 950, 642'\n",
    "values = re.findall(r'\\d+', sample_text)\n",
    "values = [int(value) for value in values]\n",
    "\n",
    "max_value = max(values)\n",
    "\n",
    "print(max_value)"
   ]
  },
  {
   "cell_type": "code",
   "execution_count": 132,
   "id": "a4fe336b",
   "metadata": {},
   "outputs": [
    {
     "name": "stdout",
     "output_type": "stream",
     "text": [
      "Regular Expression Is An Important Topic In Python\n"
     ]
    }
   ],
   "source": [
    "#Q.23\n",
    "import regex as re\n",
    "\n",
    "def spaceInsert(text):\n",
    "  \n",
    "  pattern = r'([A-Z][a-z]+)'\n",
    "\n",
    "  result = re.sub(pattern, r' \\1', text)\n",
    "  \n",
    "  result = result.strip()\n",
    "  return result\n",
    "sample_text=\"RegularExpressionIsAnImportantTopicInPython\"\n",
    "output = spaceInsert(sample_text)\n",
    "print(output)\n",
    "\n"
   ]
  },
  {
   "cell_type": "code",
   "execution_count": 134,
   "id": "b4903070",
   "metadata": {},
   "outputs": [
    {
     "name": "stdout",
     "output_type": "stream",
     "text": [
      "['Sample', 'Text', 'With', 'Uppercase', 'Letter', 'Followed', 'Lower', 'Cases']\n"
     ]
    }
   ],
   "source": [
    "#Q.24\n",
    "import regex as re\n",
    "\n",
    "pattern = r'[A-Z][a-z]+'\n",
    "sample_text = \"Sample Text with Uppercase Letter Followed by Lower Cases\"\n",
    "\n",
    "Result = re.findall(pattern, sample_text)\n",
    "print(Result)\n"
   ]
  },
  {
   "cell_type": "code",
   "execution_count": 136,
   "id": "ed13c44e",
   "metadata": {},
   "outputs": [
    {
     "name": "stdout",
     "output_type": "stream",
     "text": [
      "Hello hello world\n"
     ]
    }
   ],
   "source": [
    "#Q.25\n",
    "import regex as re\n",
    "\n",
    "def rmv_duplicates(sample_text):\n",
    "  pattern = r'\\b(\\w+)(\\s+\\1\\b)+'\n",
    "  result = re.sub(pattern, r'\\1', sample_text)\n",
    "  return result\n",
    "\n",
    "# Example usage\n",
    "sample_text = \"Hello hello world world\"\n",
    "output = rmv_duplicates(sample_text)\n",
    "print(output)\n",
    "\n"
   ]
  },
  {
   "cell_type": "code",
   "execution_count": 208,
   "id": "3d4f36d8",
   "metadata": {},
   "outputs": [
    {
     "name": "stdout",
     "output_type": "stream",
     "text": [
      "Enter the string: Tom@34\n",
      "The string is ending with alphanumeric char!\n"
     ]
    }
   ],
   "source": [
    "#Q.26\n",
    "import regex as re\n",
    "def alph_num(str):  \n",
    "    pattern = '[0-9]$'\n",
    "    if(re.search(pattern, str)):  \n",
    "        return \"The string is ending with alphanumeric char!\"  \n",
    "          \n",
    "    else:  \n",
    "        return \"The string does not ends with alphanumeric char!\"      \n",
    "      \n",
    "str = input(\"Enter the string: \")\n",
    "print(check(str))\n",
    "\n",
    " "
   ]
  },
  {
   "cell_type": "code",
   "execution_count": 211,
   "id": "e5eba117",
   "metadata": {},
   "outputs": [
    {
     "name": "stdout",
     "output_type": "stream",
     "text": [
      "['#Doltiwal', '#xyzabc', '#Demonetization']\n"
     ]
    }
   ],
   "source": [
    "#Q.27\n",
    "import regex as re\n",
    "\n",
    "def extract_hashtags(sample_text):\n",
    "  hashtags = re.findall(r'#\\w+', sample_text)\n",
    "  return hashtags\n",
    "\n",
    "sample_text = 'RT @kapil_kausik: #Doltiwal I mean #xyzabc is \"hurt\" by #Demonetization as the same has rendered USELESS<ed><U+00A0><U+00BD><ed><U+00B1><U+0089> \"acquired funds\" No wo'\n",
    "\n",
    "hashtags = extract_hashtags(sample_text)\n",
    "\n",
    "print(hashtags)\n"
   ]
  },
  {
   "cell_type": "code",
   "execution_count": 213,
   "id": "b5224b3b",
   "metadata": {},
   "outputs": [
    {
     "name": "stdout",
     "output_type": "stream",
     "text": [
      "@Jags123456 Bharat band on 28??<ed><ed>Those who are protesting #demonetization are all different party leaders\n"
     ]
    }
   ],
   "source": [
    "#Q.28\n",
    "import regex as re\n",
    "\n",
    "sample_text = \"@Jags123456 Bharat band on 28??<ed><U+00A0><U+00BD><ed><U+00B8><U+0082>Those who are protesting #demonetization are all different party leaders\"\n",
    "\n",
    "pattern = r\"<U\\+\\w{4}>\"\n",
    "output = re.sub(pattern, \"\", sample_text)\n",
    "\n",
    "print(output)\n"
   ]
  },
  {
   "cell_type": "code",
   "execution_count": 235,
   "id": "9ca6672f",
   "metadata": {},
   "outputs": [
    {
     "name": "stdout",
     "output_type": "stream",
     "text": [
      "12-09-1992\n",
      "15-12-1999\n"
     ]
    }
   ],
   "source": [
    "#Q.29\n",
    "import regex as re\n",
    "\n",
    "# Open the text file\n",
    "file=open('d:\\\\regex29.txt', 'r')\n",
    "text=file.read()\n",
    "\n",
    "\n",
    "# Define the regular expression pattern for dates\n",
    "pattern = r'\\d{2}-\\d{2}-\\d{4}'\n",
    "\n",
    "# Find all matches of the pattern in the text\n",
    "dates = re.findall(pattern, text)\n",
    "\n",
    "# Print the extracted dates\n",
    "for date in dates:\n",
    "  print(date)\n"
   ]
  },
  {
   "cell_type": "code",
   "execution_count": 273,
   "id": "e315875d",
   "metadata": {},
   "outputs": [
    {
     "name": "stdout",
     "output_type": "stream",
     "text": [
      "  following example creates   ArrayList   a capacity     elements. 4 elements     added     ArrayList     ArrayList   trimmed accordingly.\n"
     ]
    }
   ],
   "source": [
    "#Q.30\n",
    "import regex as re\n",
    "\n",
    "def remove_words(string):\n",
    "  pattern = re.compile(r'\\b\\w{2,4}\\b')\n",
    "  modified_string = re.sub(pattern, ' ', string)\n",
    "  return modified_string\n",
    "sample_text=\"The following example creates an ArrayList with a capacity of 50 elements. 4 elements are then added to the ArrayList and the ArrayList is trimmed accordingly.\"\n",
    "expected_output =\"following example creates ArrayList a capacity elements. 4 elements added ArrayList ArrayList trimmed accordingly.\"\n",
    "\n",
    "result = remove_words(sample_text)\n",
    "print(result)\n",
    "\n"
   ]
  },
  {
   "cell_type": "code",
   "execution_count": null,
   "id": "33be4ecd",
   "metadata": {},
   "outputs": [],
   "source": []
  }
 ],
 "metadata": {
  "kernelspec": {
   "display_name": "Python 3 (ipykernel)",
   "language": "python",
   "name": "python3"
  },
  "language_info": {
   "codemirror_mode": {
    "name": "ipython",
    "version": 3
   },
   "file_extension": ".py",
   "mimetype": "text/x-python",
   "name": "python",
   "nbconvert_exporter": "python",
   "pygments_lexer": "ipython3",
   "version": "3.11.5"
  }
 },
 "nbformat": 4,
 "nbformat_minor": 5
}
